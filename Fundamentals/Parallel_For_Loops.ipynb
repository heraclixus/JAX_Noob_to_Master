{
 "cells": [
  {
   "cell_type": "code",
   "execution_count": 1,
   "id": "cc457a6b",
   "metadata": {},
   "outputs": [],
   "source": [
    "import jax"
   ]
  },
  {
   "cell_type": "code",
   "execution_count": 8,
   "id": "c671e5c4",
   "metadata": {},
   "outputs": [],
   "source": [
    "import jax.numpy as jnp\n",
    "from jax import vmap\n",
    "from jax.lax import fori_loop, scan"
   ]
  },
  {
   "cell_type": "markdown",
   "id": "6150d2f6",
   "metadata": {},
   "source": [
    "# Different Ways to Parallelize forloops"
   ]
  },
  {
   "cell_type": "markdown",
   "id": "f312d361",
   "metadata": {},
   "source": [
    "## VMAP"
   ]
  },
  {
   "cell_type": "code",
   "execution_count": 5,
   "id": "1c48f55b",
   "metadata": {},
   "outputs": [],
   "source": [
    "mapped_sq = vmap(lambda x: x**2)"
   ]
  },
  {
   "cell_type": "code",
   "execution_count": 6,
   "id": "1e29d51d",
   "metadata": {},
   "outputs": [
    {
     "name": "stderr",
     "output_type": "stream",
     "text": [
      "An NVIDIA GPU may be present on this machine, but a CUDA-enabled jaxlib is not installed. Falling back to cpu.\n"
     ]
    },
    {
     "name": "stdout",
     "output_type": "stream",
     "text": [
      "63.7 ms ± 5.81 ms per loop (mean ± std. dev. of 7 runs, 1 loop each)\n"
     ]
    }
   ],
   "source": [
    "# compare with the list comprehension \n",
    "lst = np.arange(1000)\n",
    "\n",
    "%timeit [x**2 for x in lst]"
   ]
  },
  {
   "cell_type": "code",
   "execution_count": 7,
   "id": "48a19bcd",
   "metadata": {},
   "outputs": [
    {
     "name": "stdout",
     "output_type": "stream",
     "text": [
      "419 µs ± 26.4 µs per loop (mean ± std. dev. of 7 runs, 1,000 loops each)\n"
     ]
    }
   ],
   "source": [
    "%timeit mapped_sq(lst)"
   ]
  },
  {
   "cell_type": "markdown",
   "id": "c982ed0a",
   "metadata": {},
   "source": [
    "The function signature is `jax.vmap(fun, in_axes=0, out_axes=0, ...)\n",
    "- `in_axes` specifies which input array axes to map (parallelize over); the number of integers correspond to the number parameters of the `fun` parameter. \n",
    "- `out_axes` specifies where the mapped axis should appear in the output. \n",
    "\n",
    "Examples in Linear Algebra:\n",
    "1. Dot product (VV), `i,i->` in einsum\n",
    "2. Matrix-vector product (MV) `ij,j->i` in einsum. In this case, vmap(VV) over the second axis. \n",
    "3. Matrix-vector product (MV) `ij,i->j` in einsum. In this case, vmap(VV) over the first axis. \n",
    "4. Matrix-Matrix product (MM) `ij,jk->ik` in einsum. In this case, vmap(MV) over the first axis "
   ]
  },
  {
   "cell_type": "markdown",
   "id": "d7a92010",
   "metadata": {},
   "source": [
    "The `out_axes`: __think about it as the dim you want to keep!__"
   ]
  },
  {
   "cell_type": "code",
   "execution_count": 9,
   "id": "0186da18",
   "metadata": {},
   "outputs": [],
   "source": [
    "import numpy as np"
   ]
  },
  {
   "cell_type": "code",
   "execution_count": 10,
   "id": "8adac0d1",
   "metadata": {},
   "outputs": [],
   "source": [
    "# algebraic examples from the doc\n",
    "\n",
    "# vector dot product # ([a],[a]) -> []\n",
    "vv = lambda x,y : jnp.vdot(x,y)\n",
    "\n",
    "x = jnp.array(np.random.randn(10))\n",
    "y = jnp.array(np.random.randn(10))"
   ]
  },
  {
   "cell_type": "code",
   "execution_count": 11,
   "id": "a1896c93",
   "metadata": {},
   "outputs": [
    {
     "data": {
      "text/plain": [
       "Array(-1.7140954, dtype=float32)"
      ]
     },
     "execution_count": 11,
     "metadata": {},
     "output_type": "execute_result"
    }
   ],
   "source": [
    "vv(x,y) # i,j->"
   ]
  },
  {
   "cell_type": "code",
   "execution_count": 16,
   "id": "044e573c",
   "metadata": {},
   "outputs": [],
   "source": [
    "# matrix vector product # ([a,b], a) -> [b] \n",
    "# (0, None): 1st axis of matrix, vector has no dim \n",
    "# out_axis: mapped axis (summed result) appear in the first entry \n",
    "# in einsum this is \"ij,j->i\" (I want to keep the 0-th dimension!)\n",
    "mv = vmap(vv, (0, None), 0)\n",
    "# in einsum, this is \"ij,i->j\" (I want to keep the 1-th dimension!)\n",
    "mv2 = vmap(vv, (1, None), 0) "
   ]
  },
  {
   "cell_type": "code",
   "execution_count": 17,
   "id": "a298aeec",
   "metadata": {},
   "outputs": [],
   "source": [
    "X1 = jnp.array(np.random.randn(10,5))\n",
    "X2 = jnp.array(np.random.randn(5,10))"
   ]
  },
  {
   "cell_type": "code",
   "execution_count": 18,
   "id": "49c47dc8",
   "metadata": {},
   "outputs": [
    {
     "data": {
      "text/plain": [
       "Array([-0.70639527,  1.512434  , -0.78491145,  0.9769071 ,  2.0266433 ],      dtype=float32)"
      ]
     },
     "execution_count": 18,
     "metadata": {},
     "output_type": "execute_result"
    }
   ],
   "source": [
    "# X2 = (5,10)\n",
    "# x = (10,)\n",
    "# output = (5,) : ij,j->i\n",
    "mv(X2,x)"
   ]
  },
  {
   "cell_type": "code",
   "execution_count": 20,
   "id": "7a06b494",
   "metadata": {},
   "outputs": [
    {
     "data": {
      "text/plain": [
       "Array([ 0.57710534, -4.5725822 , -0.7548177 , -3.4529448 , -0.93890244],      dtype=float32)"
      ]
     },
     "execution_count": 20,
     "metadata": {},
     "output_type": "execute_result"
    }
   ],
   "source": [
    "# X1 = (10,5)\n",
    "# x = (10,)\n",
    "# output = (10, ): ij,i->j\n",
    "mv2(X1, x)"
   ]
  },
  {
   "cell_type": "code",
   "execution_count": 39,
   "id": "b85f0d58",
   "metadata": {},
   "outputs": [],
   "source": [
    "# mv: ij,j->i\n",
    "# mm1: ij,jk->jk\n",
    "# I want ot keep the 1-th dimension of the second matrix! \n",
    "# from mv: I want to keep 0-th dimension the 1st matrix\n",
    "# the dim for k is the 1-th dimension of output\n",
    "mm1 = vmap(mv, (None, 1), 1)"
   ]
  },
  {
   "cell_type": "code",
   "execution_count": 40,
   "id": "fb8c84f7",
   "metadata": {},
   "outputs": [],
   "source": [
    "# X1 = (10, 5)\n",
    "# X3 = (5, 8)\n",
    "X3 = jnp.array(np.random.randn(5,8))"
   ]
  },
  {
   "cell_type": "code",
   "execution_count": 41,
   "id": "63d90d09",
   "metadata": {},
   "outputs": [
    {
     "data": {
      "text/plain": [
       "(10, 8)"
      ]
     },
     "execution_count": 41,
     "metadata": {},
     "output_type": "execute_result"
    }
   ],
   "source": [
    "mm1(X1,X3).shape"
   ]
  },
  {
   "cell_type": "code",
   "execution_count": 46,
   "id": "a93bfe37",
   "metadata": {},
   "outputs": [],
   "source": [
    "# X1 = (10,5)\n",
    "# X4 = (8,10) \n",
    "# I want to keep 1-th dimension of X1\n",
    "# I also want to keep 0-th dimension of X4\n",
    "# ij,ki->j,k\n",
    "# the dim in the output for k(8) is 1-th dimension (10,5),(8,10)->(5,8)\n",
    "mm2 = vmap(mv2, (None, 0), 1)\n",
    "# this is ij,ki->k,j\n",
    "mm3 = vmap(mv2, (None, 0), 0) # (10,5), (8,10)->(8,5)"
   ]
  },
  {
   "cell_type": "code",
   "execution_count": 47,
   "id": "f3cd1180",
   "metadata": {},
   "outputs": [
    {
     "data": {
      "text/plain": [
       "(5, 8)"
      ]
     },
     "execution_count": 47,
     "metadata": {},
     "output_type": "execute_result"
    }
   ],
   "source": [
    "X4 = jnp.array(np.random.randn(8,10))\n",
    "mm2(X1,X4).shape"
   ]
  },
  {
   "cell_type": "code",
   "execution_count": 48,
   "id": "b84982f4",
   "metadata": {},
   "outputs": [
    {
     "data": {
      "text/plain": [
       "(8, 5)"
      ]
     },
     "execution_count": 48,
     "metadata": {},
     "output_type": "execute_result"
    }
   ],
   "source": [
    "mm3(X1,X4).shape"
   ]
  },
  {
   "cell_type": "markdown",
   "id": "e01ab6ca",
   "metadata": {},
   "source": [
    "## Lax.scan\n",
    "\n",
    "This function is useful for updating states using for loops. It has the following signature in python:\n",
    "\n",
    "```py\n",
    "def scan(f, init, xs, length=None):\n",
    "    return [None] * length if xs is None \n",
    "    carry, ys = init, []\n",
    "    for x in xs:\n",
    "        carry, y = f(carry, x)\n",
    "        ys.append(y)\n",
    "    return carry, np.stack(ys)\n",
    "```"
   ]
  },
  {
   "cell_type": "code",
   "execution_count": 56,
   "id": "78e75bf1",
   "metadata": {},
   "outputs": [],
   "source": [
    "a = np.arange(500)"
   ]
  },
  {
   "cell_type": "code",
   "execution_count": 50,
   "id": "331bdba6",
   "metadata": {},
   "outputs": [
    {
     "name": "stdout",
     "output_type": "stream",
     "text": [
      "2.62 µs ± 163 ns per loop (mean ± std. dev. of 7 runs, 100,000 loops each)\n"
     ]
    }
   ],
   "source": [
    "%timeit np.cumsum(a)"
   ]
  },
  {
   "cell_type": "code",
   "execution_count": 51,
   "id": "1310364b",
   "metadata": {},
   "outputs": [
    {
     "name": "stdout",
     "output_type": "stream",
     "text": [
      "143 µs ± 2.31 µs per loop (mean ± std. dev. of 7 runs, 10,000 loops each)\n"
     ]
    }
   ],
   "source": [
    "from jax import lax\n",
    "\n",
    "def cumsum(res, el):\n",
    "    res = res + el \n",
    "    return res, res\n",
    "result_init = 0\n",
    "\n",
    "%timeit lax.scan(cumsum, result_init, a)"
   ]
  },
  {
   "cell_type": "code",
   "execution_count": 53,
   "id": "74f9bde8",
   "metadata": {},
   "outputs": [],
   "source": [
    "from jax import jit"
   ]
  },
  {
   "cell_type": "code",
   "execution_count": 59,
   "id": "4a0d243b",
   "metadata": {},
   "outputs": [],
   "source": [
    "@jit\n",
    "def scanned_cumsum(a):\n",
    "    def cumsum(res, el):\n",
    "        res = res + el \n",
    "        return res, res\n",
    "    result_init = 0\n",
    "    res = lax.scan(cumsum, result_init, a)\n",
    "    return res"
   ]
  },
  {
   "cell_type": "code",
   "execution_count": 60,
   "id": "7678fcee",
   "metadata": {},
   "outputs": [
    {
     "name": "stdout",
     "output_type": "stream",
     "text": [
      "6.84 µs ± 275 ns per loop (mean ± std. dev. of 7 runs, 100,000 loops each)\n"
     ]
    }
   ],
   "source": [
    "%timeit scanned_cumsum(a)"
   ]
  },
  {
   "cell_type": "markdown",
   "id": "3a2a279e",
   "metadata": {},
   "source": [
    "## LAX.fori_loop\n",
    "\n",
    "This is another optimizer for for loop, requiring a lower and upper function and returns updated value. \n",
    "\n",
    "```py\n",
    "def fori_loop(lower, upper, body_fun, init_val):\n",
    "    val = init_val\n",
    "    for i in range(lower, upper):\n",
    "        val = body_fun(i, val)\n",
    "    return val \n",
    "```"
   ]
  },
  {
   "cell_type": "code",
   "execution_count": 61,
   "id": "e9521fa8",
   "metadata": {},
   "outputs": [],
   "source": [
    "@jit \n",
    "def fori_loop_cumsum(a):\n",
    "    def body(i, curr):\n",
    "        curr += a[i]\n",
    "        return curr\n",
    "    res = lax.fori_loop(0, len(a), body, 0)\n",
    "    return res"
   ]
  },
  {
   "cell_type": "code",
   "execution_count": 62,
   "id": "f6de3787",
   "metadata": {},
   "outputs": [
    {
     "name": "stdout",
     "output_type": "stream",
     "text": [
      "5.9 µs ± 110 ns per loop (mean ± std. dev. of 7 runs, 100,000 loops each)\n"
     ]
    }
   ],
   "source": [
    "%timeit fori_loop_cumsum(a)"
   ]
  },
  {
   "cell_type": "code",
   "execution_count": null,
   "id": "42a6670d",
   "metadata": {},
   "outputs": [],
   "source": []
  }
 ],
 "metadata": {
  "kernelspec": {
   "display_name": "Python 3 (ipykernel)",
   "language": "python",
   "name": "python3"
  },
  "language_info": {
   "codemirror_mode": {
    "name": "ipython",
    "version": 3
   },
   "file_extension": ".py",
   "mimetype": "text/x-python",
   "name": "python",
   "nbconvert_exporter": "python",
   "pygments_lexer": "ipython3",
   "version": "3.11.4"
  }
 },
 "nbformat": 4,
 "nbformat_minor": 5
}
